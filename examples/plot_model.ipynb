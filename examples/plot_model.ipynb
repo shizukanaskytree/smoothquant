{
 "cells": [
  {
   "cell_type": "code",
   "execution_count": null,
   "metadata": {},
   "outputs": [],
   "source": [
    "import torch\n",
    "import os\n",
    "\n",
    "import graphviz\n",
    "graphviz.set_jupyter_format('svg')\n",
    "\n",
    "from transformers import (\n",
    "    AutoModelForCausalLM,\n",
    "    AutoTokenizer,\n",
    ")\n",
    "\n",
    "from torchview import draw_graph\n",
    "\n",
    "model_name = \"facebook/opt-125m\"\n",
    "\n",
    "tokenizer = AutoTokenizer.from_pretrained(model_name, model_max_length=512)\n",
    "# kwargs = {\"torch_dtype\": torch.float16, \"device_map\": \"sequential\"}\n",
    "kwargs = {}\n",
    "model = AutoModelForCausalLM.from_pretrained(model_name, **kwargs)\n",
    "\n",
    "device = next(model.parameters()).device\n",
    "\n",
    "### Sample input for visualization, You can replace this with any sample text\n",
    "sample_text = \"Hello, world!\"\n",
    "input_ids = tokenizer(sample_text, return_tensors=\"pt\").input_ids.to(device)\n",
    "\n",
    "### Forward pass to get the output\n",
    "output = model(input_ids)\n",
    "\n",
    "model_graph = draw_graph(\n",
    "    model,\n",
    "    input_data=input_ids,\n",
    "    expand_nested=True,\n",
    "    depth=4,\n",
    "    hide_inner_tensors=False,\n",
    "    hide_module_functions=False,\n",
    "    save_graph=True,\n",
    "    # filename=\"./output/model.svg\",\n",
    ")\n",
    "\n",
    "# model_graph.visual_graph"
   ]
  },
  {
   "cell_type": "code",
   "execution_count": null,
   "metadata": {},
   "outputs": [],
   "source": [
    "!dot -Tpdf model.gv -o model.pdf"
   ]
  }
 ],
 "metadata": {
  "kernelspec": {
   "display_name": "smoothquant",
   "language": "python",
   "name": "python3"
  },
  "language_info": {
   "codemirror_mode": {
    "name": "ipython",
    "version": 3
   },
   "file_extension": ".py",
   "mimetype": "text/x-python",
   "name": "python",
   "nbconvert_exporter": "python",
   "pygments_lexer": "ipython3",
   "version": "3.8.17"
  },
  "orig_nbformat": 4
 },
 "nbformat": 4,
 "nbformat_minor": 2
}
